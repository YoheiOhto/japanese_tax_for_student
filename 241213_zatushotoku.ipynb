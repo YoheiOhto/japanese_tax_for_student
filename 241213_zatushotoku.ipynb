{
 "cells": [
  {
   "cell_type": "markdown",
   "metadata": {},
   "source": [
    "## 一部奨学金は雑所得扱いらしい\n",
    "給与所得との違いを記載しておく"
   ]
  },
  {
   "cell_type": "markdown",
   "metadata": {},
   "source": [
    "1. 所得の計算方法  \n",
    "給与所得: 収入金額から給与所得控除額を差し引いて計算します。給与所得控除額は、収入金額に応じて定められています。  \n",
    "雑所得: 収入金額から必要経費を差し引いて計算します。必要経費は、雑所得を得るために直接要した費用に限られます。  "
   ]
  },
  {
   "cell_type": "markdown",
   "metadata": {},
   "source": [
    "2. 税金の計算方法  \n",
    "給与所得: 給与所得控除後の金額に、所得税率を乗じて計算します。  \n",
    "雑所得: 雑所得控除後の金額に、所得税率を乗じて計算します。"
   ]
  },
  {
   "cell_type": "markdown",
   "metadata": {},
   "source": [
    "3. 確定申告  \n",
    "給与所得: 年末調整が行われるため、原則として確定申告は不要です。ただし、給与所得以外の所得がある場合や、医療費控除などの控除を受ける場合は、確定申告が必要です。  \n",
    "雑所得: 確定申告が必要です。雑所得の金額が20万円以下の場合、確定申告は不要ですが、住民税の申告は必要です。"
   ]
  },
  {
   "cell_type": "markdown",
   "metadata": {},
   "source": [
    "# 大事なのは経費計上によって節税できる金額のシミュレーション"
   ]
  },
  {
   "cell_type": "markdown",
   "metadata": {},
   "source": []
  }
 ],
 "metadata": {
  "kernelspec": {
   "display_name": "241212_unsloth",
   "language": "python",
   "name": "241212_unsloth"
  },
  "language_info": {
   "name": "python",
   "version": "3.11.4"
  }
 },
 "nbformat": 4,
 "nbformat_minor": 2
}
