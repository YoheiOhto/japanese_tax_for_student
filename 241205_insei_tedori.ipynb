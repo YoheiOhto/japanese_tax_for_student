{
 "cells": [
  {
   "cell_type": "markdown",
   "metadata": {},
   "source": [
    " * @ Author: Yohei Ohto\n",
    " * @ Create Time: 2024-12-05 18:01:35\n",
    " * @ Modified time: 2024-12-05 18:01:46\n",
    " * @ Description: 日本の税制の理解と奨学金をもらう人の手取りを計算する　(東京大学、文京区、39歳以下、独身一人暮らし、バイト先が1つでの生活を想定)"
   ]
  },
  {
   "cell_type": "code",
   "execution_count": 9,
   "metadata": {},
   "outputs": [
    {
     "name": "stdout",
     "output_type": "stream",
     "text": [
      "私は一年で 240 万円稼ぎます!\n"
     ]
    }
   ],
   "source": [
    "# 各種手当に対応していないため、特に交通費はしっかりと抜いてから計算すること　https://edenred.jp/article/employee-benefits/119/#chapter-7\n",
    "\n",
    "monthly = 18  # 奨学金の月額, 単位は万\n",
    "annual = monthly * 12 # 奨学金の年額, 単位は万\n",
    "\n",
    "part_job = 10 * 12 # バイトの年額, 単位は万\n",
    "\n",
    "all_salary = annual + part_job # あなたの額面での金額 単位は万\n",
    "\n",
    "all_salary = 240\n",
    "print(\"私は一年で\",all_salary,\"万円稼ぎます!\")"
   ]
  },
  {
   "cell_type": "code",
   "execution_count": 10,
   "metadata": {},
   "outputs": [
    {
     "name": "stdout",
     "output_type": "stream",
     "text": [
      "地方税の基礎控除 43\n",
      "国税の基礎控除 48\n",
      "給与所得控除 80.0\n"
     ]
    }
   ],
   "source": [
    "# 控除額の計算\n",
    "\n",
    "def kyuyo_syotoku_kojo_calc(income):\n",
    "    if income <= 162.5:\n",
    "        # 給与収入が1,625,000円以下の場合 550,000円\n",
    "        kojo = 55\n",
    "    elif income <= 180:\n",
    "        # 給与収入が1,625,001円から1,800,000円までの場合 収入金額×40％-100,000円\n",
    "        kojo = income * 0.40 - 10\n",
    "    elif income <= 360:\n",
    "        # 給与収入が1,800,001円から3,600,000円までの場合 収入金額×30％+80,000円\n",
    "        kojo = income * 0.30 + 8\n",
    "    elif income <= 660:\n",
    "        # 給与収入が3,600,001円から6,600,000円までの場合 収入金額×20％+440,000円\n",
    "        kojo = salary * 0.20 + 44\n",
    "    elif income <= 850:\n",
    "        # 給与収入が6,600,001円から8,500,000円までの場合 収入金額×10％+1,100,000円\n",
    "        kojo = income * 0.10 + 110\n",
    "    else:\n",
    "        # 給与収入が8,500,001円以上の場合 1,950,000円（上限）\n",
    "        kojo = 195\n",
    "    \n",
    "    return kojo\n",
    "\n",
    "def kiso_kojo_kuni(income):\n",
    "    if income <= 2400:\n",
    "        return 48\n",
    "    elif income <= 2450:\n",
    "        return 32\n",
    "    elif income <= 2500:\n",
    "        return 16\n",
    "    else:\n",
    "        return 0\n",
    "\n",
    "def kiso_kojo_chiho(income):\n",
    "    if income <= 2400:\n",
    "        return 43\n",
    "    elif income <= 2450:\n",
    "        return 29\n",
    "    elif income <= 2500:\n",
    "        return 15\n",
    "    else:\n",
    "        return 0\n",
    "\n",
    "chihouzei_kiso_kojo = kiso_kojo_chiho(all_salary)\n",
    "kokuzei_kiso_kojo = kiso_kojo_kuni(all_salary)\n",
    "kyuyo_syotoku_kojo = kyuyo_syotoku_kojo_calc(all_salary)\n",
    "\n",
    "print(\"地方税の基礎控除\", chihouzei_kiso_kojo)\n",
    "print(\"国税の基礎控除\", kokuzei_kiso_kojo)\n",
    "print(\"給与所得控除\", kyuyo_syotoku_kojo)\n",
    "# バイト先と奨学金という収入減が複数ある場合には主たる収入減において年末調整を行う義務がある → それぞれで給与所得控除が計算されているため、年末調整時に合算して追徴課税がある"
   ]
  },
  {
   "cell_type": "code",
   "execution_count": 11,
   "metadata": {},
   "outputs": [
    {
     "name": "stdout",
     "output_type": "stream",
     "text": [
      "基礎分保険料 15.0773\n",
      "支援金分保険料 4.926\n",
      "国保 20.0033 万円, 月額 1.6669416666666665 万円\n"
     ]
    }
   ],
   "source": [
    "# 国保 https://www.city.bunkyo.lg.jp/b021/p000424.html\n",
    "# 年齢的に介護保険を支払う必要がないと想定\n",
    "kiso_kojo = kiso_kojo_chiho(all_salary)\n",
    "sante_kiso = all_salary - kyuyo_syotoku_kojo - kiso_kojo # 算定基礎額(所得) = 総所得(給与所得控除が計算済み) - 基礎控除\n",
    "\n",
    "if sante_kiso < 0:\n",
    "    sante_kiso = 0 # 基礎控除がマイナスになる場合は0として扱う\n",
    "\n",
    "\n",
    "syotoku_wari_kiso = sante_kiso * (8.69 / 100) #〔所得割額〕被保険者全員の令和6年度の算定基礎額 × 8.69％\n",
    "kinto_wari_kiso = 4.9100 * 1 # 〔均等割額〕49,100円 × 被保険者数 (独身想定の為1)\n",
    "kiso_hoken = syotoku_wari_kiso + kinto_wari_kiso\n",
    "\n",
    "print(\"基礎分保険料\", kiso_hoken)\n",
    "\n",
    "syotoku_wari_sien = sante_kiso * (2.80 / 100) #〔所得割額〕被保険者全員の令和6年度の算定基礎額 × 2.80％\n",
    "kinto_wari_sien = 1.6500 * 1 # 〔均等割額〕16,500円 × 被保険者数(1)\n",
    "sien_hoken = syotoku_wari_sien + kinto_wari_sien\n",
    "\n",
    "print(\"支援金分保険料\", sien_hoken)\n",
    "\n",
    "kokuho = kiso_hoken + sien_hoken\n",
    "monthly_kokuho = kokuho / 12\n",
    "\n",
    "print(\"国保\", kokuho, \"万円, 月額\", monthly_kokuho, \"万円\")\n"
   ]
  },
  {
   "cell_type": "code",
   "execution_count": 12,
   "metadata": {},
   "outputs": [
    {
     "name": "stdout",
     "output_type": "stream",
     "text": [
      "国民年金 20.304 万円, 月額 1.692 万円\n"
     ]
    }
   ],
   "source": [
    "# 国民年金 前能でいくらか安くなる、前納時には安くなる口座振替を使用していると仮定する　https://www.nenkin.go.jp/service/kokunen/hokenryo/zenno.html\n",
    "\n",
    "def kokumin_nenkin_payment(frequency, payment_method):\n",
    "    \"\"\"\n",
    "    国民年金の納付額と割引額を計算する関数（万円単位で返し、年額納付額も計算）。\n",
    "\n",
    "    Parameters:\n",
    "        frequency (str): 支払い頻度 (\"2年前納\", \"1年前納\", \"6カ月前納\", \"当月末振替\", \"毎月納付\")\n",
    "        payment_method (str): 支払い方法 (\"納付書払い\", \"クレジットカード払い\", \"口座振替\")\n",
    "\n",
    "    Returns:\n",
    "        dict: 納付額（万円単位）、割引額（万円単位）、年額納付額（万円単位）を含む辞書\n",
    "    \"\"\"\n",
    "    # 納付額と割引額の定義（円単位）\n",
    "    payment_data = {\n",
    "        \"2年前納\": {\n",
    "            \"納付書払い\": {\"amount\": 398590, \"discount\": 15290},\n",
    "            \"クレジットカード払い\": {\"amount\": 398590, \"discount\": 15290},\n",
    "            \"口座振替\": {\"amount\": 397290, \"discount\": 16590},\n",
    "        },\n",
    "        \"1年前納\": {\n",
    "            \"納付書払い\": {\"amount\": 200140, \"discount\": 3620},\n",
    "            \"クレジットカード払い\": {\"amount\": 200140, \"discount\": 3620},\n",
    "            \"口座振替\": {\"amount\": 199490, \"discount\": 4270},\n",
    "        },\n",
    "        \"6カ月前納\": {\n",
    "            \"納付書払い\": {\"amount\": 101050, \"discount\": 830},\n",
    "            \"クレジットカード払い\": {\"amount\": 101050, \"discount\": 830},\n",
    "            \"口座振替\": {\"amount\": 100720, \"discount\": 1160},\n",
    "        },\n",
    "        \"当月末振替\": {\n",
    "            \"口座振替\": {\"amount\": 16920, \"discount\": 60},\n",
    "        },\n",
    "        \"毎月納付\": {\n",
    "            \"納付書払い\": {\"amount\": 16980, \"discount\": 0},\n",
    "            \"クレジットカード払い\": {\"amount\": 16980, \"discount\": 0},\n",
    "            \"口座振替\": {\"amount\": 16980, \"discount\": 0},\n",
    "        },\n",
    "    }\n",
    "\n",
    "    # 各支払い頻度の年額換算用の係数\n",
    "    frequency_to_multiplier = {\n",
    "        \"2年前納\": 0.5,  # 2年間分で割る\n",
    "        \"1年前納\": 1,\n",
    "        \"6カ月前納\": 2,\n",
    "        \"当月末振替\": 12,\n",
    "        \"毎月納付\": 12,\n",
    "    }\n",
    "\n",
    "    try:\n",
    "        result = payment_data[frequency][payment_method]\n",
    "        multiplier = frequency_to_multiplier[frequency]\n",
    "\n",
    "        # 万円単位で計算（納付額・割引額）\n",
    "        amount_in_million = result[\"amount\"] / 10000\n",
    "        discount_in_million = result[\"discount\"] / 10000\n",
    "\n",
    "        # 年額換算（万円単位）\n",
    "        annual_amount_in_million = amount_in_million * multiplier\n",
    "    \n",
    "        # 月額換算（万円単位）\n",
    "        monthly_amount_in_million = annual_amount_in_million / 12\n",
    "\n",
    "        return {\n",
    "            \"支払い頻度\": frequency,\n",
    "            \"支払い方法\": payment_method,\n",
    "            \"納付額\": amount_in_million,\n",
    "            \"割引額\": discount_in_million,\n",
    "            \"年額\": annual_amount_in_million,\n",
    "            \"月額\": monthly_amount_in_million\n",
    "        }\n",
    "    except KeyError:\n",
    "        return {\n",
    "            \"エラー\": \"指定された支払い頻度または支払い方法が無効です。\"\n",
    "        }\n",
    "\n",
    "\n",
    "frequency = \"当月末振替\"\n",
    "payment_method = \"口座振替\"\n",
    "kokumin_nenkin = kokumin_nenkin_payment(frequency, payment_method)\n",
    "\n",
    "monthly_kokumin_nenkin = kokumin_nenkin[\"月額\"]\n",
    "annual_kokumin_nenkin = kokumin_nenkin[\"年額\"]\n",
    "\n",
    "print(\"国民年金\", annual_kokumin_nenkin, \"万円, 月額\", monthly_kokumin_nenkin, \"万円\")"
   ]
  },
  {
   "cell_type": "code",
   "execution_count": 13,
   "metadata": {},
   "outputs": [
    {
     "name": "stdout",
     "output_type": "stream",
     "text": [
      "所得税 2.6000000000000005 万円, 月額 0.2166666666666667 万円\n"
     ]
    }
   ],
   "source": [
    "# 所得税 https://www.nta.go.jp/taxes/shiraberu/taxanswer/shotoku/2260.htm\n",
    "# 定額減税 https://www.nta.go.jp/users/gensen/teigakugenzei/01.htm\n",
    "\n",
    "def calculate_income_tax(taxable_income):\n",
    "    \"\"\"\n",
    "    所得税額を計算する関数。\n",
    "    \n",
    "    Args:\n",
    "        taxable_income (float): 課税所得金額（万円単位）\n",
    "    \n",
    "    Returns:\n",
    "        float: 所得税額（万円単位）\n",
    "    \"\"\"\n",
    "    if taxable_income <= 194.9:\n",
    "        tax_rate = 0.05\n",
    "        deduction = 0\n",
    "    elif taxable_income <= 329.9:\n",
    "        tax_rate = 0.10\n",
    "        deduction = 9.75\n",
    "    elif taxable_income <= 694.9:\n",
    "        tax_rate = 0.20\n",
    "        deduction = 42.75\n",
    "    elif taxable_income <= 899.9:\n",
    "        tax_rate = 0.23\n",
    "        deduction = 63.6\n",
    "    elif taxable_income <= 1799.9:\n",
    "        tax_rate = 0.33\n",
    "        deduction = 153.6\n",
    "    elif taxable_income <= 3999.9:\n",
    "        tax_rate = 0.40\n",
    "        deduction = 279.6\n",
    "    else:\n",
    "        tax_rate = 0.45\n",
    "        deduction = 479.6\n",
    "\n",
    "    # 所得税額の計算\n",
    "    tax = taxable_income * tax_rate - deduction\n",
    "    return tax\n",
    "\n",
    "kiso_kojo = kiso_kojo_kuni(all_salary)\n",
    "kazei_taisyo =  all_salary - kyuyo_syotoku_kojo - kiso_kojo\n",
    "income_tax = calculate_income_tax(kazei_taisyo)\n",
    "\n",
    "if all_salary < 2000:\n",
    "    income_tax -= 3\n",
    "\n",
    "monthly_income_tax = income_tax / 12\n",
    "print(\"所得税\", income_tax, \"万円, 月額\", monthly_income_tax, \"万円\")"
   ]
  },
  {
   "cell_type": "code",
   "execution_count": 14,
   "metadata": {},
   "outputs": [
    {
     "name": "stdout",
     "output_type": "stream",
     "text": [
      "復興特別所得税 0.05460000000000002 万円, 月額 0.004550000000000001 万円\n"
     ]
    }
   ],
   "source": [
    "# 所得税に付随する税金　復興特別所得税、定額減税\n",
    "hukko = income_tax * 0.021\n",
    "monthly_hukko = hukko / 12\n",
    "print(\"復興特別所得税\", hukko, \"万円, 月額\", monthly_hukko, \"万円\")"
   ]
  },
  {
   "cell_type": "code",
   "execution_count": null,
   "metadata": {},
   "outputs": [
    {
     "name": "stdout",
     "output_type": "stream",
     "text": [
      "調整控除額 0.25\n",
      "住民税 8.1142 万円, 月額 0.6761833333333334 万円\n"
     ]
    }
   ],
   "source": [
    "# 住民税　https://biz.moneyforward.com/tax_return/basic/49732/#1　https://www.city.bunkyo.lg.jp/b008/p000357.html#sonota　\n",
    "\n",
    "kiso_kojo = kiso_kojo_chiho(all_salary)\n",
    "kazei_taisyo_not_tyosei =  all_salary - kyuyo_syotoku_kojo - kiso_kojo - annual_kokumin_nenkin - kokuho\n",
    "\n",
    "def tyosei_koujo(kazei_taisyo_not_tyosei):\n",
    "    if kazei_taisyo_not_tyosei <= 200:\n",
    "        a = abs(kokuzei_kiso_kojo - chihouzei_kiso_kojo)\n",
    "        b = kazei_taisyo_not_tyosei\n",
    "        koujo = min(a, b) * 0.05\n",
    "    else:\n",
    "        a = abs(kokuzei_kiso_kojo - chihouzei_kiso_kojo)\n",
    "        b = kazei_taisyo_not_tyosei - 200\n",
    "        koujo = (a - b) * 0.05\n",
    "        if koujo < 0:\n",
    "            koujo = 0\n",
    "    return koujo\n",
    "\n",
    "koujo = tyosei_koujo(kazei_taisyo_not_tyosei)\n",
    "print(\"調整控除額\", koujo)\n",
    "kazei_taisyo = kazei_taisyo_not_tyosei - koujo\n",
    "jumin_tax = kazei_taisyo * 0.1 + 0.45 + 0.05\n",
    "monthly_jumin_tax = jumin_tax / 12\n",
    "print(\"住民税\", jumin_tax, \"万円, 月額\", monthly_jumin_tax, \"万円\")"
   ]
  },
  {
   "cell_type": "code",
   "execution_count": 16,
   "metadata": {},
   "outputs": [
    {
     "name": "stdout",
     "output_type": "stream",
     "text": [
      "あなたは1年で 51.0761 万円納税しています\n",
      "手取りは 188.9239 万円です\n"
     ]
    }
   ],
   "source": [
    "annual_zeikin = jumin_tax + hukko + income_tax + annual_kokumin_nenkin + kokuho\n",
    "print(\"あなたは1年で\", annual_zeikin, \"万円納税しています\")\n",
    "\n",
    "tedori = all_salary - annual_zeikin\n",
    "print(\"手取りは\", tedori, \"万円です\")"
   ]
  },
  {
   "cell_type": "code",
   "execution_count": 18,
   "metadata": {},
   "outputs": [
    {
     "name": "stdout",
     "output_type": "stream",
     "text": [
      "調整控除額 0.25\n",
      "住民税 10.508058333333333 万円, 月額 0.8756715277777777 万円\n",
      "あなたは1年で 29.832074999999996 万円納税しています\n",
      "手取りは 210.167925 万円です\n"
     ]
    }
   ],
   "source": [
    "# 来年だけ\n",
    "kokuho = monthly_kokuho * 5 # 7月末に超える → 8月文から国保に入る　https://mynavi-ms.jp/magazine/detail/001339.html\n",
    "income_tax = income_tax\n",
    "nenkin = monthly_kokuho * 5 # 8月分から年金を払い始める\n",
    "\n",
    "kiso_kojo = kiso_kojo_chiho(all_salary)\n",
    "kazei_taisyo_not_tyosei =  all_salary - kyuyo_syotoku_kojo - kiso_kojo - nenkin - kokuho\n",
    "koujo = tyosei_koujo(kazei_taisyo_not_tyosei)\n",
    "print(\"調整控除額\", koujo)\n",
    "kazei_taisyo = kazei_taisyo_not_tyosei - koujo\n",
    "jumin_tax = kazei_taisyo * 0.1 + 0.45 + 0.05\n",
    "monthly_jumin_tax = jumin_tax / 12\n",
    "print(\"住民税\", jumin_tax, \"万円, 月額\", monthly_jumin_tax, \"万円\")\n",
    "\n",
    "annual_zeikin = jumin_tax + hukko + income_tax + nenkin + kokuho\n",
    "print(\"あなたは1年で\", annual_zeikin, \"万円納税しています\")\n",
    "\n",
    "tedori = all_salary - annual_zeikin\n",
    "print(\"手取りは\", tedori, \"万円です\")"
   ]
  },
  {
   "cell_type": "code",
   "execution_count": null,
   "metadata": {},
   "outputs": [],
   "source": []
  }
 ],
 "metadata": {
  "kernelspec": {
   "display_name": "analysis",
   "language": "python",
   "name": "python3"
  },
  "language_info": {
   "codemirror_mode": {
    "name": "ipython",
    "version": 3
   },
   "file_extension": ".py",
   "mimetype": "text/x-python",
   "name": "python",
   "nbconvert_exporter": "python",
   "pygments_lexer": "ipython3",
   "version": "3.11.9"
  }
 },
 "nbformat": 4,
 "nbformat_minor": 2
}
